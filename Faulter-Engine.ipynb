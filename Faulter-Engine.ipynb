{
 "cells": [
  {
   "cell_type": "code",
   "execution_count": 1,
   "metadata": {
    "collapsed": false
   },
   "outputs": [
    {
     "name": "stdout",
     "output_type": "stream",
     "text": [
      "[[5000 4975.0 '36' ..., 0.0 0.0 171.62]\n",
      " [2500 2500.0 '60' ..., 117.08 1.11 119.66]\n",
      " [2400 2400.0 '36' ..., 0.0 0.0 649.91]\n",
      " ..., \n",
      " [3600 3600.0 '36' ..., 0.0 0.0 137.15]\n",
      " [15000 15000.0 '36' ..., 0.0 0.0 568.34]\n",
      " [14675 14650.0 '60' ..., 770.19 138.6342 322.67]]\n"
     ]
    }
   ],
   "source": [
    "from sklearn import svm\n",
    "import numpy as np\n",
    "import pandas as pd\n",
    "df=pd.read_csv('final_2.csv', sep=',',dtype={'term':str,'emp_length':str,\n",
    "                                                     'home_ownership':str,'purpose':str,\n",
    "                                                    'title':str,'earliest_cr_line':str})\n",
    "df.values\n",
    "#df.info()\n",
    "x=df.values[0:10000,1:28]\n",
    "print(x)"
   ]
  },
  {
   "cell_type": "code",
   "execution_count": 2,
   "metadata": {
    "collapsed": false
   },
   "outputs": [],
   "source": [
    "y=df.values[0:10000,28]\n"
   ]
  },
  {
   "cell_type": "code",
   "execution_count": 3,
   "metadata": {
    "collapsed": false
   },
   "outputs": [
    {
     "data": {
      "text/plain": [
       "SVC(C=1.0, cache_size=200, class_weight=None, coef0=0.0,\n",
       "  decision_function_shape=None, degree=3, gamma='auto', kernel='rbf',\n",
       "  max_iter=-1, probability=False, random_state=None, shrinking=True,\n",
       "  tol=0.001, verbose=False)"
      ]
     },
     "execution_count": 3,
     "metadata": {},
     "output_type": "execute_result"
    }
   ],
   "source": [
    "clf = svm.SVC()\n",
    "clf.fit(x, y)"
   ]
  },
  {
   "cell_type": "code",
   "execution_count": 4,
   "metadata": {
    "collapsed": false
   },
   "outputs": [
    {
     "data": {
      "text/plain": [
       "array(['Fully Paid'], dtype=object)"
      ]
     },
     "execution_count": 4,
     "metadata": {},
     "output_type": "execute_result"
    }
   ],
   "source": [
    "clf.predict([[5000, 4975.0, '36', 10.65, 162.87, '10', '1', 24000.0, 27.65, 0, 1, 0, 3, 0, 13648,\n",
    "              83.7, 9, 0.0, 0.0, 5861.071414, 5831.78, 5000.0, 861.07, 0.0, 0.0, 0.0 ,171.62]])"
   ]
  },
  {
   "cell_type": "code",
   "execution_count": 6,
   "metadata": {
    "collapsed": false
   },
   "outputs": [
    {
     "data": {
      "text/plain": [
       "array(['Fully Paid', 'Fully Paid', 'Fully Paid', 'Fully Paid',\n",
       "       'Fully Paid', 'Fully Paid', 'Current', 'Fully Paid', 'Charged Off',\n",
       "       'Fully Paid', 'Fully Paid', 'Fully Paid', 'Fully Paid',\n",
       "       'Fully Paid', 'Charged Off', 'Fully Paid', 'Fully Paid',\n",
       "       'Fully Paid', 'Current', 'Fully Paid'], dtype=object)"
      ]
     },
     "execution_count": 6,
     "metadata": {},
     "output_type": "execute_result"
    }
   ],
   "source": [
    "clf.predict(df.values[1000:1020,1:28])"
   ]
  },
  {
   "cell_type": "code",
   "execution_count": 7,
   "metadata": {
    "collapsed": false
   },
   "outputs": [
    {
     "name": "stdout",
     "output_type": "stream",
     "text": [
      "['Fully Paid' 'Fully Paid' 'Fully Paid' 'Fully Paid' 'Fully Paid'\n",
      " 'Fully Paid' 'Current' 'Fully Paid' 'Charged Off' 'Fully Paid'\n",
      " 'Fully Paid' 'Fully Paid' 'Fully Paid' 'Fully Paid' 'Charged Off'\n",
      " 'Fully Paid' 'Fully Paid' 'Fully Paid' 'Current' 'Fully Paid']\n"
     ]
    }
   ],
   "source": [
    "y=df.values[1000:1020,28]\n",
    "print(y)"
   ]
  },
  {
   "cell_type": "code",
   "execution_count": null,
   "metadata": {
    "collapsed": true
   },
   "outputs": [],
   "source": []
  }
 ],
 "metadata": {
  "kernelspec": {
   "display_name": "Python 3",
   "language": "python",
   "name": "python3"
  },
  "language_info": {
   "codemirror_mode": {
    "name": "ipython",
    "version": 3
   },
   "file_extension": ".py",
   "mimetype": "text/x-python",
   "name": "python",
   "nbconvert_exporter": "python",
   "pygments_lexer": "ipython3",
   "version": "3.6.0"
  }
 },
 "nbformat": 4,
 "nbformat_minor": 2
}
